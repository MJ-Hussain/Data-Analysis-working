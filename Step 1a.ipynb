{
 "cells": [
  {
   "cell_type": "markdown",
   "id": "4f2d0e81",
   "metadata": {},
   "source": [
    "# Introduction"
   ]
  },
  {
   "cell_type": "markdown",
   "id": "796f7f83",
   "metadata": {},
   "source": [
    "This group work project 1 (GWP 1) will mainly focus on pricing options by making use of volatility models. We will explore how to calibrate different models to observed market data. Furthermore, we will check the accuracy of the prices using the put-call parity relationship to ensure abritrage free markets."
   ]
  },
  {
   "cell_type": "markdown",
   "id": "2b6ce9ef",
   "metadata": {},
   "source": [
    "# Step 1:Calibrating the Heston Model 1993 without jumps (Team member A)"
   ]
  },
  {
   "cell_type": "markdown",
   "id": "f14edb20",
   "metadata": {},
   "source": [
    "1a) Using the Lewis (2001) Approach\n",
    "- This approach falls under fourier based option pricing which can be denoted using the formula below\n",
    "\n",
    "$$\n",
    "\\begin{equation*}\n",
    "    C_0 = S_0 - \\frac{\\sqrt{S_0 K} e^{-rT}}{\\pi} \\int_{0}^{\\infty} \\mathbf{Re}[e^{izk} \\varphi(z-i/2)] \\frac{dz}{z^2+1/4}\n",
    "\\end{equation*}\n",
    "$$\n",
    "\n",
    "- Hence, we also need to define the characteristic function under the Heston 1993 model\n",
    "\n",
    "$$\n",
    "\\\n",
    "\\begin{equation*}\n",
    "  \\varphi^{H93} (u, T) = e^{H_1(u, T)+H_2(u,T)\\nu_0}\n",
    "\\end{equation*}\n",
    "$$\n",
    "\\\n",
    "where\n",
    "\n",
    "$$\n",
    "\\\n",
    "\\begin{equation*}\n",
    "  H_1 (u, T) \\equiv r_0 uiT + \\frac{c_1}{\\sigma_\\nu^2}\\Biggl\\{ (\\kappa_\\nu - \\rho \\sigma_\\nu ui+c_2) T - 2 log \\left[ \\frac{1-c_3e^{c_2T}}{1-c_3} \\right] \\Biggl\\}\n",
    "\\end{equation*}\n",
    "$$\n",
    "$$\n",
    "\\\n",
    "\\begin{equation*}\n",
    "  H_2 (u, T) \\equiv \\frac{\\kappa_\\nu - \\rho \\sigma_\\nu ui + c_2}{\\sigma_\\nu^2} \\left[ \\frac{1-e^{c_2T}}{1-c_3e^{c_2T}} \\right]\n",
    "\\end{equation*}\n",
    "$$\n",
    "$$\n",
    "\\\n",
    "\\begin{equation*}\n",
    "  c_1 \\equiv \\kappa_\\nu \\theta_\\nu\n",
    "\\end{equation*}\n",
    "$$\n",
    "$$\n",
    "\\\n",
    "\\begin{equation*}\n",
    "  c_2 \\equiv - \\sqrt{(\\rho \\sigma_\\nu ui - \\kappa_\\nu)^2 - \\sigma_\\nu^2(-ui-u^2) }\n",
    "\\end{equation*}\n",
    "$$\n",
    "$$\n",
    "\\\n",
    "\\begin{equation*}\n",
    "  c_3 \\equiv \\frac{\\kappa_\\nu - \\rho \\sigma_\\nu ui + c_2}{\\kappa_\\nu - \\rho \\sigma_\\nu ui - c_2}\n",
    "\\end{equation*}\n",
    "$$\n",
    "\n",
    "\n",
    "-Furthermore there is need to define the intergral value in Lewis 2001, which is depicted with the formula below:\n",
    "\n",
    "\n",
    "$$\n",
    "\\\n",
    "\\begin{equation*}\n",
    "    C_0 = S_0 - \\frac{\\sqrt{S_0 K} e^{-rT}}{\\pi} \\int_{0}^{\\infty} \\mathbf{Re}[e^{izk} \\varphi(z-i/2)] \\frac{dz}{z^2+1/4}\n",
    "\\end{equation*}\n",
    "$$\n",
    "\n",
    "\n"
   ]
  },
  {
   "cell_type": "code",
   "execution_count": 1,
   "id": "e724dc5f",
   "metadata": {},
   "outputs": [],
   "source": [
    "#Importing the neccessary libraries\n",
    "import matplotlib.pyplot as plt\n",
    "import numpy as np\n",
    "import pandas as pd\n",
    "from scipy.integrate import quad\n",
    "from scipy.stats import norm\n",
    "from scipy.optimize import brute, fmin\n",
    "import random\n",
    "from scipy.optimize import brute, fmin\n",
    "import numpy as np\n",
    "from scipy.fft import fft, ifft\n",
    "\n",
    "plt.rcParams['figure.figsize'] = (8, 6)"
   ]
  },
  {
   "cell_type": "code",
   "execution_count": 2,
   "id": "b37d9737",
   "metadata": {},
   "outputs": [],
   "source": [
    "def H93_char_func(u, T, r, kappa_v, theta_v, sigma_v, rho, v0):\n",
    "    \"\"\"Valuation of Asian call option in H93 model via Lewis (2001)\n",
    "    Fourier-based approach: characteristic function.\"\"\"\n",
    "\n",
    "    c1 = kappa_v * theta_v\n",
    "    c2 = -np.sqrt(\n",
    "        (rho * sigma_v * u * 1j - kappa_v) ** 2 - sigma_v**2 * (-u * 1j - u**2)\n",
    "    )\n",
    "    c3 = (kappa_v - rho * sigma_v * u * 1j + c2) / (\n",
    "        kappa_v - rho * sigma_v * u * 1j - c2\n",
    "    )\n",
    "    H1 = r * u * 1j * T + (c1 / sigma_v**2) * (\n",
    "        (kappa_v - rho * sigma_v * u * 1j + c2) * T\n",
    "        - 2 * np.log((1 - c3 * np.exp(c2 * T)) / (1 - c3))\n",
    "    )\n",
    "    H2 = (\n",
    "        (kappa_v - rho * sigma_v * u * 1j + c2)\n",
    "        / sigma_v**2\n",
    "        * ((1 - np.exp(c2 * T)) / (1 - c3 * np.exp(c2 * T)))\n",
    "    )\n",
    "    char_func_value = np.exp(H1 + H2 * v0)\n",
    "    return char_func_value\n",
    "\n",
    "def H93_int_func(u, S0, K, T, r, kappa_v, theta_v, sigma_v, rho, v0):\n",
    "    \"\"\"\n",
    "    Fourier-based approach for Lewis (2001): Integration function.\n",
    "    \"\"\"\n",
    "    char_func_value = H93_char_func(\n",
    "        u - 1j * 0.5, T, r, kappa_v, theta_v, sigma_v, rho, v0\n",
    "    )\n",
    "    int_func_value = (\n",
    "        1 / (u**2 + 0.25) * (np.exp(1j * u * np.log(S0 / K)) * char_func_value).real\n",
    "    )\n",
    "    return int_func_value"
   ]
  },
  {
   "cell_type": "markdown",
   "id": "6ffb2e4c",
   "metadata": {},
   "source": [
    "The calibration process"
   ]
  },
  {
   "cell_type": "markdown",
   "id": "694582a8",
   "metadata": {},
   "source": [
    "Calibration will be done based market data for the SM stock given the following parameters:\n",
    "\n",
    "\n",
    "\n",
    "$$\n",
    "S_0 = 232.90;\\quad r = 1.50\\%;\\quad T = 15 \\text{ days}\n",
    "$$"
   ]
  },
  {
   "cell_type": "code",
   "execution_count": 3,
   "id": "08eb2e36-8a7f-40ec-9b1b-5c1cd2df77e2",
   "metadata": {},
   "outputs": [
    {
     "ename": "NameError",
     "evalue": "name 'options' is not defined",
     "output_type": "error",
     "traceback": [
      "\u001b[1;31m---------------------------------------------------------------------------\u001b[0m",
      "\u001b[1;31mNameError\u001b[0m                                 Traceback (most recent call last)",
      "Input \u001b[1;32mIn [3]\u001b[0m, in \u001b[0;36m<cell line: 1>\u001b[1;34m()\u001b[0m\n\u001b[1;32m----> 1\u001b[0m \u001b[43moptions\u001b[49m\u001b[38;5;241m.\u001b[39mhead()\n",
      "\u001b[1;31mNameError\u001b[0m: name 'options' is not defined"
     ]
    }
   ],
   "source": [
    "options.head()"
   ]
  },
  {
   "cell_type": "code",
   "execution_count": 5,
   "id": "b188ebf3",
   "metadata": {},
   "outputs": [
    {
     "data": {
      "text/html": [
       "<div>\n",
       "<style scoped>\n",
       "    .dataframe tbody tr th:only-of-type {\n",
       "        vertical-align: middle;\n",
       "    }\n",
       "\n",
       "    .dataframe tbody tr th {\n",
       "        vertical-align: top;\n",
       "    }\n",
       "\n",
       "    .dataframe thead th {\n",
       "        text-align: right;\n",
       "    }\n",
       "</style>\n",
       "<table border=\"1\" class=\"dataframe\">\n",
       "  <thead>\n",
       "    <tr style=\"text-align: right;\">\n",
       "      <th></th>\n",
       "      <th>Days to maturity</th>\n",
       "      <th>Strike</th>\n",
       "      <th>Price</th>\n",
       "      <th>Type</th>\n",
       "      <th>Current_Price</th>\n",
       "      <th>T</th>\n",
       "      <th>r</th>\n",
       "    </tr>\n",
       "  </thead>\n",
       "  <tbody>\n",
       "    <tr>\n",
       "      <th>0</th>\n",
       "      <td>15</td>\n",
       "      <td>227.5</td>\n",
       "      <td>10.52</td>\n",
       "      <td>C</td>\n",
       "      <td>232.9</td>\n",
       "      <td>0.06</td>\n",
       "      <td>0.015</td>\n",
       "    </tr>\n",
       "    <tr>\n",
       "      <th>1</th>\n",
       "      <td>15</td>\n",
       "      <td>230.0</td>\n",
       "      <td>10.05</td>\n",
       "      <td>C</td>\n",
       "      <td>232.9</td>\n",
       "      <td>0.06</td>\n",
       "      <td>0.015</td>\n",
       "    </tr>\n",
       "    <tr>\n",
       "      <th>2</th>\n",
       "      <td>15</td>\n",
       "      <td>232.5</td>\n",
       "      <td>7.75</td>\n",
       "      <td>C</td>\n",
       "      <td>232.9</td>\n",
       "      <td>0.06</td>\n",
       "      <td>0.015</td>\n",
       "    </tr>\n",
       "    <tr>\n",
       "      <th>3</th>\n",
       "      <td>15</td>\n",
       "      <td>235.0</td>\n",
       "      <td>6.01</td>\n",
       "      <td>C</td>\n",
       "      <td>232.9</td>\n",
       "      <td>0.06</td>\n",
       "      <td>0.015</td>\n",
       "    </tr>\n",
       "    <tr>\n",
       "      <th>4</th>\n",
       "      <td>15</td>\n",
       "      <td>237.5</td>\n",
       "      <td>4.75</td>\n",
       "      <td>C</td>\n",
       "      <td>232.9</td>\n",
       "      <td>0.06</td>\n",
       "      <td>0.015</td>\n",
       "    </tr>\n",
       "  </tbody>\n",
       "</table>\n",
       "</div>"
      ],
      "text/plain": [
       "   Days to maturity  Strike  Price Type  Current_Price     T      r\n",
       "0                15   227.5  10.52    C          232.9  0.06  0.015\n",
       "1                15   230.0  10.05    C          232.9  0.06  0.015\n",
       "2                15   232.5   7.75    C          232.9  0.06  0.015\n",
       "3                15   235.0   6.01    C          232.9  0.06  0.015\n",
       "4                15   237.5   4.75    C          232.9  0.06  0.015"
      ]
     },
     "execution_count": 5,
     "metadata": {},
     "output_type": "execute_result"
    }
   ],
   "source": [
    "#importing market data\n",
    "\n",
    "options = pd.read_excel(\"MScFE 622_Stochastic Modeling_GWP1_Option data.xlsx\" )\n",
    "\n",
    "S0 = 232.9\n",
    "options['Current_Price'] = S0\n",
    "#averaging_prices = options[['Current_Price', \"Call\"]].values\n",
    "options = options[(options[\"Days to maturity\"]==15) & (options[\"Type\"]=='C')]\n",
    "for row, option in options.iterrows():\n",
    "    T = (option[\"Days to maturity\"]) / 250.0\n",
    "    options.loc[row, \"T\"] = T\n",
    "    options.loc[row, \"r\"] = 1.5/100\n",
    "\n",
    "options.head(10)"
   ]
  },
  {
   "cell_type": "markdown",
   "id": "defeeb42",
   "metadata": {},
   "source": [
    "The next step is to make sure that we carry out modifying techniques to ensure we match market data. Thus making use of fuctions i.e, mean squared error (MSE) function."
   ]
  },
  {
   "cell_type": "code",
   "execution_count": 20,
   "id": "120476d1",
   "metadata": {},
   "outputs": [],
   "source": [
    "i = 0\n",
    "min_MSE = 500\n",
    "\n",
    "def H93_error_function(p0):\n",
    "    \"\"\"Error function for parameter calibration via\n",
    "    Lewis (2001) Fourier approach for Heston (1993).\n",
    "    Parameters\n",
    "    ==========\n",
    "    kappa_v: float\n",
    "        mean-reversion factor\n",
    "    theta_v: float\n",
    "        long-run mean of variance\n",
    "    sigma_v: float\n",
    "        volatility of variance\n",
    "    rho: float\n",
    "        correlation between variance and stock/index level\n",
    "    v0: float\n",
    "        initial, instantaneous variance\n",
    "    Returns\n",
    "    =======\n",
    "    MSE: float\n",
    "        mean squared error\n",
    "    \"\"\"\n",
    "    global i, min_MSE\n",
    "    kappa_v, theta_v, sigma_v, rho, v0 = p0\n",
    "    if kappa_v < 0.0 or theta_v < 0.005 or sigma_v < 0.0 or rho < -1.0 or rho > 1.0:\n",
    "        return 500.0\n",
    "    if 2 * kappa_v * theta_v < sigma_v**2:\n",
    "        return 500.0\n",
    "    se = []\n",
    "    for row, option in options.iterrows():\n",
    "        model_value = H93_call_value(\n",
    "            S0,\n",
    "            option[\"Strike\"],\n",
    "            option[\"T\"],\n",
    "            option[\"r\"],\n",
    "            kappa_v,\n",
    "            theta_v,\n",
    "            sigma_v,\n",
    "            rho,\n",
    "            v0,\n",
    "        )\n",
    "        se.append((model_value - option[\"Price\"]) ** 2)\n",
    "    MSE = sum(se) / len(se)\n",
    "    min_MSE = min(min_MSE, MSE)\n",
    "    if i % 25 == 0:\n",
    "        print(\"%4d |\" % i, np.array(p0), \"| %7.3f | %7.3f\" % (MSE, min_MSE))\n",
    "    i += 1\n",
    "    return MSE\n",
    "\n",
    "def H93_call_value(S0, K, T, r, kappa_v, theta_v, sigma_v, rho, v0):\n",
    "    \"\"\"Valuation of European call option in H93 model via Lewis (2001)\n",
    "\n",
    "    Parameter definition:\n",
    "    ==========\n",
    "    S0: float\n",
    "        initial stock/index level\n",
    "    K: float\n",
    "        strike price\n",
    "    T: float\n",
    "        time-to-maturity (for t=0)\n",
    "    r: float\n",
    "        constant risk-free short rate\n",
    "    kappa_v: float\n",
    "        mean-reversion factor\n",
    "    theta_v: float\n",
    "        long-run mean of variance\n",
    "    sigma_v: float\n",
    "        volatility of variance\n",
    "    rho: float\n",
    "        correlation between variance and stock/index level\n",
    "    v0: float\n",
    "        initial level of variance\n",
    "    Returns\n",
    "    =======\n",
    "    call_value: float\n",
    "        present value of European call option\n",
    "    \"\"\"\n",
    "    int_value = quad(\n",
    "        lambda u: H93_int_func(u, S0, K, T, r, kappa_v, theta_v, sigma_v, rho, v0),\n",
    "        0,\n",
    "        np.inf,\n",
    "        limit=250,\n",
    "    )[0]\n",
    "    call_value = max(0, S0 - np.exp(-r * T) * np.sqrt(S0 * K) / np.pi * int_value)\n",
    "    return call_value"
   ]
  },
  {
   "cell_type": "code",
   "execution_count": 21,
   "id": "f2bfb606",
   "metadata": {},
   "outputs": [],
   "source": [
    "def H93_calibration_full():\n",
    "    \"\"\"Calibrates Heston (1993) stochastic volatility model to market quotes.\"\"\"\n",
    "    # First run with brute force\n",
    "    # (scan sensible regions, for faster convergence)\n",
    "    p0 = brute(\n",
    "        H93_error_function,\n",
    "        (\n",
    "                (2.5, 10.6, 5.0),  # kappa_v\n",
    "                (0.01, 0.041, 0.01),  # theta_v\n",
    "                (0.05, 0.251, 0.1),  # sigma_v\n",
    "                (-0.75, 0.01, 0.25),  # rho\n",
    "                (0.01, 0.031, 0.01),\n",
    "            ),  # v0\n",
    "        finish=None,\n",
    "    )\n",
    "\n",
    "    # Second run with local, convex minimization\n",
    "    # (we dig deeper where promising results)\n",
    "    opt = fmin(\n",
    "        H93_error_function, p0, xtol=0.000001, ftol=0.000001, maxiter=950, maxfun=900\n",
    "    )\n",
    "    return opt"
   ]
  },
  {
   "cell_type": "code",
   "execution_count": 22,
   "id": "8efda94c",
   "metadata": {},
   "outputs": [
    {
     "name": "stdout",
     "output_type": "stream",
     "text": [
      "   0 | [ 2.5   0.01  0.05 -0.75  0.01] |  23.560 |  23.560\n",
      "  25 | [ 2.5   0.02  0.05 -0.75  0.02] |  16.264 |  11.964\n",
      "  50 | [ 2.5   0.02  0.25 -0.75  0.03] |  11.689 |  11.662\n",
      "  75 | [ 2.5   0.03  0.15 -0.5   0.01] |  22.320 |  11.367\n",
      " 100 | [ 2.5   0.04  0.05 -0.5   0.02] |  15.462 |  11.089\n",
      " 125 | [ 2.5   0.04  0.25 -0.5   0.03] |  11.135 |  11.079\n",
      " 150 | [ 7.5   0.01  0.15 -0.25  0.01] |  23.608 |  11.079\n",
      " 175 | [ 7.5   0.02  0.05 -0.25  0.02] |  16.283 |  11.079\n",
      " 200 | [ 7.5   0.02  0.25 -0.25  0.03] |  12.271 |  11.079\n",
      " 225 | [7.5  0.03 0.15 0.   0.01] |  20.385 |  11.079\n",
      " 250 | [7.5  0.04 0.05 0.   0.02] |  14.175 |  10.608\n",
      " 275 | [7.5  0.04 0.25 0.   0.03] |  10.699 |  10.597\n",
      " 300 | [ 7.10037179  0.05742843  0.11352214 -0.46596154  0.04611934] |   5.735 |   5.735\n",
      " 325 | [4.40533337 0.12535142 0.0295268  0.88059866 0.1090853 ] |   0.422 |   0.387\n",
      " 350 | [4.61442166 0.12165979 0.0273206  0.75145539 0.10338613] |   0.382 |   0.382\n",
      " 375 | [4.59781487 0.12096663 0.02707868 0.72660053 0.10259904] |   0.382 |   0.382\n",
      " 400 | [3.46731727 0.12439635 0.00694602 0.65657947 0.10353287] |   0.379 |   0.379\n"
     ]
    },
    {
     "name": "stderr",
     "output_type": "stream",
     "text": [
      "C:\\Users\\AzazH\\AppData\\Local\\Temp\\ipykernel_7404\\2037427843.py:79: IntegrationWarning: The occurrence of roundoff error is detected, which prevents \n",
      "  the requested tolerance from being achieved.  The error may be \n",
      "  underestimated.\n",
      "  int_value = quad(\n"
     ]
    },
    {
     "name": "stdout",
     "output_type": "stream",
     "text": [
      " 425 | [3.11416214e+00 1.24592879e-01 1.05443179e-03 6.16838223e-01\n",
      " 1.03272892e-01] |   0.378 |   0.378\n",
      " 450 | [3.04961075e+00 1.24744775e-01 4.96081094e-05 6.15877874e-01\n",
      " 1.03346510e-01] |   0.378 |   0.378\n",
      " 475 | [3.04781209e+00 1.24757620e-01 5.34338857e-06 6.15412131e-01\n",
      " 1.03348877e-01] |   0.378 |   0.378\n",
      " 500 | [3.04763227e+00 1.24756511e-01 5.80345629e-06 6.15492522e-01\n",
      " 1.03349182e-01] |   0.378 |   0.378\n",
      " 525 | [3.04761977e+00 1.24756208e-01 4.63970885e-06 6.15444933e-01\n",
      " 1.03348604e-01] |   0.378 |   0.378\n",
      " 550 | [3.04760321e+00 1.24756104e-01 4.76096767e-06 6.15456946e-01\n",
      " 1.03348656e-01] |   0.378 |   0.378\n",
      " 575 | [3.04759981e+00 1.24756080e-01 4.77913236e-06 6.15459072e-01\n",
      " 1.03348662e-01] |   0.378 |   0.378\n",
      " 600 | [3.04760048e+00 1.24756099e-01 4.78028282e-06 6.15459113e-01\n",
      " 1.03348673e-01] |   0.378 |   0.378\n",
      " 625 | [3.04760059e+00 1.24756098e-01 4.77946217e-06 6.15459004e-01\n",
      " 1.03348672e-01] |   0.378 |   0.378\n",
      " 650 | [3.04760061e+00 1.24756098e-01 4.77946347e-06 6.15458994e-01\n",
      " 1.03348671e-01] |   0.378 |   0.378\n",
      " 675 | [3.04760061e+00 1.24756098e-01 4.77947176e-06 6.15458996e-01\n",
      " 1.03348672e-01] |   0.378 |   0.378\n",
      " 700 | [3.04760061e+00 1.24756098e-01 4.77947010e-06 6.15458996e-01\n",
      " 1.03348672e-01] |   0.378 |   0.378\n",
      " 725 | [3.04760061e+00 1.24756098e-01 4.77946999e-06 6.15458996e-01\n",
      " 1.03348672e-01] |   0.378 |   0.378\n",
      " 750 | [3.04760061e+00 1.24756098e-01 4.77946998e-06 6.15458996e-01\n",
      " 1.03348672e-01] |   0.378 |   0.378\n",
      " 775 | [3.04760061e+00 1.24756098e-01 4.77946997e-06 6.15458996e-01\n",
      " 1.03348672e-01] |   0.378 |   0.378\n",
      " 800 | [3.04760061e+00 1.24756098e-01 4.77946997e-06 6.15458996e-01\n",
      " 1.03348672e-01] |   0.378 |   0.378\n",
      " 825 | [3.04760061e+00 1.24756098e-01 4.77946997e-06 6.15458996e-01\n",
      " 1.03348672e-01] |   0.378 |   0.378\n",
      " 850 | [3.04760061e+00 1.24756098e-01 4.77946997e-06 6.15458996e-01\n",
      " 1.03348672e-01] |   0.378 |   0.378\n",
      " 875 | [3.04760061e+00 1.24756098e-01 4.77946997e-06 6.15458996e-01\n",
      " 1.03348672e-01] |   0.378 |   0.378\n",
      "Optimization terminated successfully.\n",
      "         Current function value: 0.377500\n",
      "         Iterations: 284\n",
      "         Function evaluations: 653\n"
     ]
    }
   ],
   "source": [
    "kappa_v, theta_v, sigma_v, rho, v0 = H93_calibration_full()"
   ]
  },
  {
   "cell_type": "code",
   "execution_count": 23,
   "id": "d8275a6d",
   "metadata": {},
   "outputs": [
    {
     "name": "stdout",
     "output_type": "stream",
     "text": [
      "3.0476006114535528 0.12475609828453427 4.779469972683821e-06 0.6154589960236192 0.10334867152592161\n"
     ]
    }
   ],
   "source": [
    "print(kappa_v, theta_v, sigma_v, rho, v0)"
   ]
  },
  {
   "cell_type": "code",
   "execution_count": 24,
   "id": "362f7efd",
   "metadata": {},
   "outputs": [],
   "source": [
    "opt = kappa_v, theta_v, sigma_v, rho, v0"
   ]
  },
  {
   "cell_type": "markdown",
   "id": "c7b0cfac",
   "metadata": {},
   "source": [
    "# Graphical illustration of the calibration fit"
   ]
  },
  {
   "cell_type": "code",
   "execution_count": 25,
   "id": "85e16d89",
   "metadata": {},
   "outputs": [],
   "source": [
    "def generate_plot(opt, options):\n",
    "    # First, we calculate model prices\n",
    "    kappa_v, theta_v, sigma_v, rho, v0 = opt\n",
    "    options[\"Model\"] = 0.0\n",
    "    for row, option in options.iterrows():\n",
    "        options.loc[row, \"Model\"] = H93_call_value(\n",
    "            S0, option[\"Strike\"], option[\"T\"], option[\"r\"], kappa_v, theta_v, sigma_v, rho, v0\n",
    "        )\n",
    "\n",
    "    # Second, we plot\n",
    "    mats = sorted(set(options[\"Days to maturity\"]))\n",
    "    options = options.set_index(\"Strike\")\n",
    "    for i, mat in enumerate(mats):\n",
    "        options[options[\"Days to maturity\"] == mat][[\"Price\", \"Model\"]].plot(\n",
    "            style=[\"b-\", \"ro\"], title=\"%s\" % str(mat)[:10]\n",
    "        )\n",
    "        plt.ylabel(\"Option Value\")"
   ]
  },
  {
   "cell_type": "code",
   "execution_count": 26,
   "id": "e0cc693e",
   "metadata": {},
   "outputs": [
    {
     "name": "stderr",
     "output_type": "stream",
     "text": [
      "C:\\Users\\AzazH\\AppData\\Local\\Temp\\ipykernel_7404\\2037427843.py:79: IntegrationWarning: The occurrence of roundoff error is detected, which prevents \n",
      "  the requested tolerance from being achieved.  The error may be \n",
      "  underestimated.\n",
      "  int_value = quad(\n"
     ]
    },
    {
     "data": {
      "image/png": "[encoded data removed]",
      "text/plain": [
       "<Figure size 576x432 with 1 Axes>"
      ]
     },
     "metadata": {
      "needs_background": "light"
     },
     "output_type": "display_data"
    }
   ],
   "source": [
    "generate_plot(opt, options);"
   ]
  },
  {
   "cell_type": "code",
   "execution_count": null,
   "id": "5d93c0e1",
   "metadata": {},
   "outputs": [],
   "source": []
  }
 ],
 "metadata": {
  "kernelspec": {
   "display_name": "Python 3 (ipykernel)",
   "language": "python",
   "name": "python3"
  },
  "language_info": {
   "codemirror_mode": {
    "name": "ipython",
    "version": 3
   },
   "file_extension": ".py",
   "mimetype": "text/x-python",
   "name": "python",
   "nbconvert_exporter": "python",
   "pygments_lexer": "ipython3",
   "version": "3.8.13"
  }
 },
 "nbformat": 4,
 "nbformat_minor": 5
}
